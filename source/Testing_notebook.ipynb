{
 "cells": [
  {
   "cell_type": "code",
   "execution_count": null,
   "metadata": {},
   "outputs": [],
   "source": [
    "%load_ext autoreload\n",
    "%autoreload\n",
    "from curve_fitting.curve_fitting_class import curve_fitter\n",
    "from matplotlib import pyplot as plt\n",
    "from grad_shafranov_class import GS_Solution\n",
    "import numpy as np"
   ]
  },
  {
   "cell_type": "code",
   "execution_count": null,
   "metadata": {},
   "outputs": [],
   "source": [
    "%load_ext autoreload\n",
    "%autoreload\n",
    "fit1 = curve_fitter(formfactor=\"Dshape\", solverClass=GS_Solution)"
   ]
  },
  {
   "cell_type": "code",
   "execution_count": null,
   "metadata": {},
   "outputs": [],
   "source": [
    "%load_ext autoreload\n",
    "%autoreload\n",
    "#plotting norm vector(gradient of psi)\n",
    "Rgrid, Zgrid = fit1.flux_function.get_RZ_grid(20)\n",
    "B_field_R, B_field_Z = fit1.flux_function.eval_del_psi(Rgrid, Zgrid)\n",
    "plt.quiver(Rgrid, Zgrid, B_field_R, B_field_Z)\n",
    "plt.show()"
   ]
  },
  {
   "cell_type": "code",
   "execution_count": null,
   "metadata": {},
   "outputs": [],
   "source": [
    "%load_ext autoreload\n",
    "%autoreload\n",
    "# plotting psi contourmap\n",
    "r_fs = 1.3\n",
    "psi_fs = fit1.flux_function.eval_psi(r_fs, 0)\n",
    "Rgrid, Zgrid = fit1.flux_function.get_RZ_grid(150)\n",
    "fig, ax = plt.subplots(1, 1)\n",
    "cp = ax.contourf(Rgrid, Zgrid, fit1.flux_function.eval_psi(Rgrid, Zgrid), levels=40, cmap='jet', alpha=0.9)\n",
    "bounds = fit1.find_bounding_box(r_fs=r_fs, z_fs = 0)\n",
    "r0 = fit1.flux_function.mid_point_finder(initial_R0=(bounds[0]+bounds[1])/2, initial_Z0=(bounds[2]+bounds[3])/2)\n",
    "ax.plot(r0[0], r0[1], 'ro')\n",
    "\n",
    "cp2 = ax.contour(Rgrid, Zgrid, fit1.flux_function.eval_psi(Rgrid, Zgrid), [psi_fs], colors='k', linewidths=2.,\n",
    "                 linestyles='solid')\n",
    "\n",
    "\n",
    "\n",
    "\n",
    "fig.colorbar(cp)  # Add a colorbar to a plot\n",
    "ax.set_title('Psi functions evaluated(R,Z)')\n",
    "ax.set_xlabel('R')\n",
    "ax.set_ylabel('Z')\n",
    "plt.show()"
   ]
  },
  {
   "cell_type": "code",
   "execution_count": null,
   "metadata": {},
   "outputs": [],
   "source": [
    "%load_ext autoreload\n",
    "%autoreload\n",
    "# root searching and the plotting results\n",
    "m_max_end = 12\n",
    "psi_fs, x_final,xmap = fit1.find_flux_surface(r_fs=r_fs, m_max_start=2, m_max_end=12)\n",
    "#res=results[(\"m_max=%d\")%(12)]\n",
    "#x_final,xmap=res[\"x_final\"],res[\"xmap\"]\n",
    "#try setting theta offset to 1/2(dx)\n",
    "#dx = 1/len(Np_in)\n",
    "R,Z = fit1.flux_function.get_RZ_grid(150)\n",
    "psi = fit1.flux_function.eval_psi(R,Z)\n",
    "rr,zz= fit1.get_curve(psi_fs=psi_fs,x_final_in=x_final,xmap_in=xmap,Np_in=(2*m_max_end+1),rzcorr_in=1,thet_offset=0)\n",
    "fig, ax = plt.subplots(figsize=(10, 10))\n",
    "im = ax.contourf(R, Z, psi, 40, cmap='jet', alpha=0.4)\n",
    "ax.contour(R, Z, psi, 40, cmap='jet')\n",
    "ax.contour(R,Z, psi, [psi_fs], colors='k', linewidths=2., linestyles='solid')\n",
    "plt.plot(rr, zz, 'bo')\n",
    "print(\"psi fs: \", psi_fs)\n",
    "plt.xlabel('R')\n",
    "ax.axis(\"equal\")\n",
    "plt.show()"
   ]
  },
  {
   "cell_type": "code",
   "execution_count": null,
   "metadata": {},
   "outputs": [],
   "source": [
    "%load_ext autoreload\n",
    "%autoreload\n",
    "#inverse fourier transofrming the points after line search\n",
    "coefficients,xmap = fit1.inverse_fourier_tranform(m_max_end=m_max_end,rr=rr,zz=zz)\n",
    "rr_curve,zz_curve=fit1.eval_curve(xmap=xmap, x=coefficients, N=1024)\n",
    "\n",
    "#printing average psi error for linesearched points\n",
    "del_psi_points = np.average(np.abs(fit1.flux_function.eval_psi(rr,zz) - psi_fs*np.ones(len(rr))))\n",
    "print(\"del_psi_points: \" , del_psi_points)\n",
    "\n",
    "#average psi error for curve after inverse fourier\n",
    "del_psi_curve = np.average(np.abs(fit1.flux_function.eval_psi(rr_curve,zz_curve) - psi_fs))\n",
    "print(\"del_psi_curve: \" , del_psi_curve)"
   ]
  }
 ],
 "metadata": {
  "kernelspec": {
   "display_name": "wipro_env",
   "language": "python",
   "name": "python3"
  },
  "language_info": {
   "codemirror_mode": {
    "name": "ipython",
    "version": 3
   },
   "file_extension": ".py",
   "mimetype": "text/x-python",
   "name": "python",
   "nbconvert_exporter": "python",
   "pygments_lexer": "ipython3",
   "version": "3.7.16"
  }
 },
 "nbformat": 4,
 "nbformat_minor": 2
}

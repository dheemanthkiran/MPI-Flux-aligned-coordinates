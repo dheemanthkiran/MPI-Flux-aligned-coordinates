{
 "cells": [
  {
   "cell_type": "code",
   "execution_count": null,
   "metadata": {},
   "outputs": [],
   "source": [
    "%load_ext autoreload\n",
    "%autoreload 2\n",
    "from scipy.interpolate import BSpline, splev\n",
    "from multiple_flux_surfaces_class import multiple_flux_surfaces\n",
    "import matplotlib.pyplot as plt\n",
    "from matplotlib import pyplot as plt\n",
    "from grad_shafranov_class import GS_Solution\n",
    "import numpy as np\n",
    "from curve_fitting.curve_fitting_class import curve_fitter"
   ]
  },
  {
   "cell_type": "code",
   "execution_count": null,
   "metadata": {},
   "outputs": [],
   "source": [
    "flux_function = GS_Solution(formfactor=\"Dshape\")\n",
    "# flux_function = GS_Solution(formfactor=\"spherical tokamak NSTX\")\n",
    "# flux_function = GS_Solution(formfactor=\"ITER from Cerfon\")\n",
    "# flux_function = GS_Solution(formfactor=\"circular shaped tokamak\")\n",
    "curve_fitting_object =curve_fitter(solverClassObject=flux_function)\n",
    "flux_surfaces = multiple_flux_surfaces(curve_fitting_class_object=curve_fitting_object)"
   ]
  },
  {
   "cell_type": "code",
   "execution_count": null,
   "metadata": {},
   "outputs": [],
   "source": [
    "psi,x,xmap = curve_fitting_object.find_flux_surface(s_fs=0.5, m_max_start=1, m_max_end=2)\n",
    "print(len(x))"
   ]
  },
  {
   "cell_type": "code",
   "execution_count": null,
   "metadata": {},
   "outputs": [],
   "source": [
    "number_of_s_points = 15\n",
    "s = np.logspace(-4,0,number_of_s_points)\n",
    "m_final = 2\n",
    "coeffs_for_manual = []\n",
    "coeffs_for_auto = []\n",
    "for i in range(len(s)):\n",
    "    psi_fs,lcfs_x,xmap=curve_fitting_object.find_flux_surface(s_fs=s[i],m_max_start=1, m_max_end_=m_final)\n",
    "    print(f'manual initial x lenght:{len(lcfs_x)}, start:{1}, end:{m_final}')\n",
    "    \n",
    "    \n",
    "    rr1,zz1 = curve_fitting_object.get_curve(s_fs=s[i],x_final_in=lcfs_x,xmap_in=xmap,Np_in=2*(2*(60)+1)+1, rzcorr_in=1)\n",
    "    coeffs_for_manual.append(curve_fitting_object.inverse_fourier_tranform(m_max_end=60, rr=rr1, zz=zz1))\n",
    "    \n",
    "    coeffs_for_auto.append(curve_fitting_object.get_full_contour(s_fs=s[i], m_max_start_first=1, m_max_end_first=m_final, m_max_end=60, root_search=True))\n",
    "    print(\"_________\")"
   ]
  }
 ],
 "metadata": {
  "kernelspec": {
   "display_name": "base",
   "language": "python",
   "name": "python3"
  },
  "language_info": {
   "codemirror_mode": {
    "name": "ipython",
    "version": 3
   },
   "file_extension": ".py",
   "mimetype": "text/x-python",
   "name": "python",
   "nbconvert_exporter": "python",
   "pygments_lexer": "ipython3",
   "version": "3.9.13"
  }
 },
 "nbformat": 4,
 "nbformat_minor": 2
}

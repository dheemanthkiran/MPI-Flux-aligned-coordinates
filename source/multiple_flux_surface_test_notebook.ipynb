{
 "cells": [
  {
   "cell_type": "code",
   "execution_count": null,
   "metadata": {},
   "outputs": [],
   "source": [
    "%load_ext autoreload\n",
    "%autoreload 2\n",
    "from scipy.interpolate import BSpline, splev\n",
    "from multiple_flux_surfaces_class import multiple_flux_surfaces\n",
    "import matplotlib.pyplot as plt\n",
    "from matplotlib import pyplot as plt\n",
    "from grad_shafranov_class import GS_Solution\n",
    "import numpy as np\n",
    "from curve_fitting.curve_fitting_class import curve_fitter\n"
   ]
  },
  {
   "cell_type": "code",
   "execution_count": null,
   "metadata": {},
   "outputs": [],
   "source": [
    "# flux_function = GS_Solution(formfactor=\"Dshape\")\n",
    "# flux_function = GS_Solution(formfactor=\"spherical tokamak NSTX\")\n",
    "# flux_function = GS_Solution(formfactor=\"ITER from Cerfon\")\n",
    "flux_function = GS_Solution(formfactor=\"circular shaped tokamak\")\n",
    "# print(flux_function.psi_axis)\n",
    "# rAxis, zAxis = flux_function.R_axis, flux_function.Z_axis"
   ]
  },
  {
   "cell_type": "code",
   "execution_count": null,
   "metadata": {},
   "outputs": [],
   "source": [
    "curve_fitting_object =curve_fitter(solverClassObject=flux_function)"
   ]
  },
  {
   "cell_type": "code",
   "execution_count": null,
   "metadata": {},
   "outputs": [],
   "source": [
    "\n",
    "#psi_fs,lcfs_x,xmap=curve_fitting_object.find_flux_surface(r_fs=3.4,z_fs=0.)\n",
    "s_fs = 1\n",
    "# psi_fs,lcfs_x,xmap=curve_fitting_obje.find_flux_surface(s_fs=s_fs)\n",
    "# print('psi_fs=',s_fs)\n",
    "\n",
    "# rr,zz= curve_fitting_object.get_curve(s_fs=s_fs,x_final_in=lcfs_x,xmap_in=xmap,Np_in=2*(2*6+1)+1,rzcorr_in=1,thet_offset=0)\n",
    "# x_corr,xmap_corr = curve_fitting_object.inverse_fourier_tranform(m_max_end=2*6,rr=rr,zz=zz)\n",
    "\n",
    "x_corr,xmap_corr = curve_fitting_object.get_full_contour(s_fs=s_fs,m_max_start_first=1,m_max_end_first=1, m_max_end=60)\n",
    "\n",
    "R, Z = flux_function.get_RZ_grid(gridPoints=150)\n",
    "s_plot = flux_function.eval_s(R, Z)\n",
    "\n",
    "fig, ax = plt.subplots(figsize=(10, 10))\n",
    "im = ax.contourf(R, Z, s_plot, 40, cmap='jet', alpha=0.4)\n",
    "cp=ax.contour(R, Z, s_plot, 40, cmap='jet')\n",
    "clb=fig.colorbar(cp)\n",
    "\n",
    "R_curve,Z_curve = curve_fitting_object.eval_curve(x=x_corr, xmap=xmap_corr, N=50)\n",
    "ax.contour(R, Z,s_plot,levels=[s_fs])\n",
    "ax.plot(R_curve, Z_curve, 'r')\n",
    "ax.set_ylabel('Z', fontsize=15)\n",
    "ax.set_xlabel('R', fontsize=15)\n",
    "#ax.plot(R_curve, Z_curve, 'b')\n",
    "# ax.contour(R, Z, psi, [flux_function.psi_axis], colors='c', linewidths=2., linestyles='solid')\n",
    "\n"
   ]
  },
  {
   "cell_type": "code",
   "execution_count": null,
   "metadata": {},
   "outputs": [],
   "source": [
    "r_fs =3.41\n",
    "z_fs = 0\n",
    "psi_fs = 0.0\n",
    "flux_surfaces = multiple_flux_surfaces(curve_fitting_class_object=curve_fitting_object)\n",
    "\n",
    "# flux_surfaces = multiple_flux_surfaces(r_fs=r_fs, z_fs=z_fs, curve_fitting_class_object=curve_fitting_object)\n",
    "# flux_function.eval_psi(R=r_fs, Z=z_fs)\n",
    "\n",
    "print(flux_surfaces.psi_axis)\n",
    "print(flux_surfaces.R_axis)\n",
    "print(flux_surfaces.Z_axis)"
   ]
  },
  {
   "cell_type": "code",
   "execution_count": null,
   "metadata": {},
   "outputs": [],
   "source": [
    "N_s = 10\n",
    "modes =10\n",
    "flux_surfaces.get_multiple_flux_surfaces(N_s=N_s,N_theta=129,m_max_end=modes)"
   ]
  },
  {
   "cell_type": "code",
   "execution_count": null,
   "metadata": {},
   "outputs": [],
   "source": [
    "psi_curve_coefficients = flux_surfaces.psi_curve_coefficients\n",
    "\n",
    "\n",
    "R, Z = flux_function.get_RZ_grid(gridPoints=150)\n",
    "psi = flux_function.eval_psi(R, Z)\n",
    "\n",
    "fig, ax = plt.subplots(figsize=(10, 10))\n",
    "im = ax.contourf(R, Z, psi, 40, cmap='jet', alpha=0.4)\n",
    "ax.contour(R, Z, psi, 40, cmap='jet')\n",
    "\n",
    "for i in range(N_s):\n",
    "    coeff, xmap = psi_curve_coefficients[i+1]\n",
    "    R_curve,Z_curve = curve_fitting_object.eval_curve(x=coeff, xmap=xmap, N=200)\n",
    "    ax.plot(R_curve, Z_curve, color='black')\n",
    "\n",
    "\n",
    "R_ij, Z_ij = flux_surfaces.R_ij,flux_surfaces.Z_ij"
   ]
  },
  {
   "cell_type": "code",
   "execution_count": null,
   "metadata": {},
   "outputs": [],
   "source": [
    "%load_ext autoreload\n",
    "%autoreload\n",
    "\n",
    "plt.figure(figsize=(15,13))\n",
    "# for i in range(R_ij.shape[0]):\n",
    "#    plt.plot(R_ij[i,:], Z_ij[i,:], 'black')\n",
    "for j in range(R_ij.shape[1]):\n",
    "    plt.plot(R_ij[:,j], Z_ij[:,j], '-')\n"
   ]
  },
  {
   "cell_type": "code",
   "execution_count": null,
   "metadata": {},
   "outputs": [],
   "source": [
    "# %load_ext autoreload\n",
    "# %autoreload\n",
    "# flux_surfaces.get_BSplines()\n",
    "# R_spline_coeff = flux_surfaces.R_Bspline_triplets\n",
    "# Z_spline_coeff = flux_surfaces.Z_Bspline_triplets\n",
    "# plt.figure(figsize=(15,13))\n",
    "# for i in range(len(R_spline_coeff)):\n",
    "#     tR,cR,kR = R_spline_coeff[i]\n",
    "#     tZ,cZ,kZ = Z_spline_coeff[i]\n",
    "#     R_Bspline = BSpline(tR,cR,kR, extrapolate=False)\n",
    "#     Z_Bspline = BSpline(tZ,cZ,kZ, extrapolate=False)\n",
    "#     s = np.linspace(0,1,300)\n",
    "#     plt.plot(R_Bspline(s), Z_Bspline(s))\n",
    "\n",
    "# for i in range(R_ij.shape[0]):\n",
    "#    plt.plot(R_ij[i,:], Z_ij[i,:], 'black')"
   ]
  },
  {
   "cell_type": "code",
   "execution_count": null,
   "metadata": {},
   "outputs": [],
   "source": [
    "%load_ext autoreload\n",
    "%autoreload\n",
    "flux_surfaces.calculate_fourier_coefficients_splines_interpolate()\n"
   ]
  },
  {
   "cell_type": "code",
   "execution_count": null,
   "metadata": {},
   "outputs": [],
   "source": [
    "# %load_ext autoreload\n",
    "# %autoreload\n",
    "s = np.linspace(0,1,50)\n",
    "theta = np.linspace(0,1,50)\n",
    "\n",
    "theta_grid,S_grid = np.meshgrid(theta,s)\n",
    "\n",
    "R_array, Z_array = flux_surfaces.sTheta_to_RZ(s=S_grid, theta=theta_grid)\n",
    "\n",
    "R, Z = flux_function.get_RZ_grid(gridPoints=150)\n",
    "psi = flux_function.eval_psi(R, Z)\n",
    "\n",
    "fig, ax = plt.subplots(figsize=(10, 10))\n",
    "im = ax.contourf(R, Z, psi, 40, cmap='jet', alpha=0.4)\n",
    "ax.contour(R, Z, psi, 40, cmap='jet')\n",
    "\n",
    "for i in range(len(R_array)):\n",
    "    R_curve = R_array[i]\n",
    "    Z_curve = Z_array[i]\n",
    "    ax.plot(R_curve, Z_curve, color='black')"
   ]
  },
  {
   "cell_type": "code",
   "execution_count": null,
   "metadata": {},
   "outputs": [],
   "source": [
    "s_fs=1.0e-6\n",
    "theta = np.linspace(0,1,50,endpoint=False)\n",
    "\n",
    "R,Z = flux_surfaces.sTheta_to_RZ(s=s_fs, theta=theta)\n",
    "dr_dtheta, dz_dtheta = flux_surfaces.angular_deriavtive_at_inputs(s=s_fs, theta=theta)\n",
    "ds_dr, ds_dz = flux_surfaces.curve_fitting_class_object.flux_function.eval_del_s(R, Z)\n",
    "\n",
    "fig, ax = plt.subplots(figsize=(10, 10))\n",
    "\n",
    "ax.plot(R, Z, color='black')\n",
    "ax.quiver(R,Z,dr_dtheta,dz_dtheta)\n",
    "ax.quiver(R,Z,ds_dr, ds_dz)\n",
    "ax.axis(\"equal\")"
   ]
  },
  {
   "cell_type": "code",
   "execution_count": null,
   "metadata": {},
   "outputs": [],
   "source": [
    "%load_ext autoreload\n",
    "%autoreload\n",
    "error_order = 4\n",
    "\n",
    "s = np.linspace(10**(-error_order) - 10**(-error_order), 10**(-error_order) + 10**(-error_order),21)\n",
    "s=np.linspace(0,1,10)\n",
    "s[0] = 1.0e-3\n",
    "\n",
    "q = []\n",
    "q_map = []\n",
    "\n",
    "for i in s:\n",
    "    # q.append(flux_surfaces.safety_factor_with_dedicated_contour(s=i, m_max_end = 2))\n",
    "    q.append(flux_surfaces.safety_factor_with_dedicated_contour(s=i, m_max_end=12, m_max_start_first=2, m_max_end_first=6))\n",
    "\n",
    "\n",
    "print(q)\n",
    "fig, ax = plt.subplots(figsize=(12, 12))\n",
    "ax.plot(s,np.array(q),label=\"q(s) from single contour\")\n",
    "ax.legend()"
   ]
  },
  {
   "cell_type": "code",
   "execution_count": null,
   "metadata": {},
   "outputs": [],
   "source": [
    "a=flux_surfaces.safety_factor_with_dedicated_contour(s=2*10**-4, m_max_end=3)-1.6\n",
    "b=flux_surfaces.safety_factor_with_dedicated_contour(s=(0.99999)*2*10**-4, m_max_end=3)-1.6\n",
    "\n",
    "print(a-b)\n",
    "print(flux_surfaces.safety_factor_with_dedicated_contour(s=1, m_max_end=3))"
   ]
  },
  {
   "cell_type": "code",
   "execution_count": null,
   "metadata": {},
   "outputs": [],
   "source": [
    "fitting_slope = (flux_surfaces.safety_factor_with_dedicated_contour(s=3*10**-4, m_max_end=3) - flux_surfaces.safety_factor_with_dedicated_contour(s=2*10**-4, m_max_end=3))/(10**-4)\n",
    "taylor_series_slope = (flux_surfaces.safety_factor_with_dedicated_contour(s=0.5*10**-4, m_max_end=3) - flux_surfaces.safety_factor_with_dedicated_contour(s=0, m_max_end=3))/(0.5*10**-4)\n",
    "\n",
    "ratio = fitting_slope/taylor_series_slope\n",
    "\n",
    "print(f\"Fitting slope: {fitting_slope}, Taylor series slope: {taylor_series_slope}, ratio: {ratio}\")"
   ]
  },
  {
   "cell_type": "code",
   "execution_count": null,
   "metadata": {},
   "outputs": [],
   "source": [
    "flux_surfaces.safety_factor_with_dedicated_contour(s=10**-4 + 10**-8, m_max_end=3) - flux_surfaces.safety_factor_with_dedicated_contour(s=10**-4, m_max_end=3)"
   ]
  },
  {
   "cell_type": "code",
   "execution_count": null,
   "metadata": {},
   "outputs": [],
   "source": [
    "N=11\n",
    "flux_surfaces.rotational_transform_interpolate(N=N)"
   ]
  },
  {
   "cell_type": "code",
   "execution_count": null,
   "metadata": {},
   "outputs": [],
   "source": [
    "t,c,k = flux_surfaces.iota_spline_coeff\n",
    "s = np.linspace(0,1,N)\n",
    "Rot_tran = BSpline(t,c,k, extrapolate=False)\n",
    "\n",
    "plt.plot(s, Rot_tran(s))\n",
    "print(Rot_tran(s))"
   ]
  },
  {
   "cell_type": "code",
   "execution_count": null,
   "metadata": {},
   "outputs": [],
   "source": []
  },
  {
   "cell_type": "code",
   "execution_count": null,
   "metadata": {},
   "outputs": [],
   "source": [
    "s = np.linspace(0,1,101)\n",
    "\n",
    "iota = []\n",
    "\n",
    "for i in s:\n",
    "    iota.append(flux_surfaces.rotational_transform_with_dedicated_contour(s=i))\n",
    "\n",
    "\n",
    "iota_interpolate = Rot_tran(s)\n",
    "\n",
    "print(np.average(np.abs(iota-iota_interpolate)))"
   ]
  },
  {
   "cell_type": "code",
   "execution_count": null,
   "metadata": {},
   "outputs": [],
   "source": [
    "Raxis, Zaxis= flux_function.R_axis, flux_function.Z_axis\n",
    "\n",
    "s_rr, s_zz = flux_function.eval_del_squared_s(Raxis, Zaxis)\n",
    "\n",
    "prefactor = np.sqrt(2/(s_rr * (Raxis**2)))\n",
    "\n",
    "print(f's_rr: {s_rr}, s_zz: {s_zz}, prefactor: {prefactor}')"
   ]
  },
  {
   "cell_type": "code",
   "execution_count": null,
   "metadata": {},
   "outputs": [],
   "source": [
    "\n",
    "\n",
    "s_fs = 1.0e-4\n",
    "\n",
    "\n",
    "x_corr,xmap_corr = curve_fitting_object.get_full_contour(s_fs=s_fs,m_max_start_first=1,m_max_end_first=2, m_max_end=3)\n",
    "\n",
    "R, Z = flux_function.get_RZ_grid(gridPoints=150,Rlim=[5.22,5.27],Zlim=[-0.05,0.05])\n",
    "s_plot = flux_function.eval_s(R, Z)\n",
    "\n",
    "fig, ax = plt.subplots(figsize=(10, 10))\n",
    "# im = ax.contourf(R, Z, s_plot, 40, cmap='jet', alpha=0.4)\n",
    "# cp=ax.contour(R, Z, s_plot, 40, cmap='jet')\n",
    "# clb=fig.colorbar(cp)\n",
    "\n",
    "R_curve,Z_curve = curve_fitting_object.eval_curve(x=x_corr, xmap=xmap_corr, N=100)\n",
    "ax.contour(R, Z,s_plot,levels=[s_fs])\n",
    "ax.plot(R_curve, Z_curve, 'r', label='curve fit approximation')\n",
    "\n",
    "thet = np.linspace(0,1,100,endpoint=False)\n",
    "\n",
    "R_taylor = np.sqrt((2*s_fs)/s_rr)*np.cos(2 * np.pi * thet) + Raxis\n",
    "\n",
    "Z_taylor = np.sqrt((2*s_fs)/s_zz)*np.sin(2 * np.pi * thet) + Zaxis\n",
    "\n",
    "ax.plot(R_taylor, Z_taylor, 'y', label='taylor approximation')\n",
    "\n",
    "print(np.average(flux_function.eval_s(R_taylor,Z_taylor)))\n",
    "\n",
    "ax.legend()\n",
    "\n",
    "ax.plot(Raxis,Zaxis, 'o')\n",
    "\n",
    "print(f's_rr:{s_rr},s_zz:{s_zz}')\n",
    "\n",
    "print(f'psi0: {flux_function.psi_0}')"
   ]
  }
 ],
 "metadata": {
  "kernelspec": {
   "display_name": "wipro_env",
   "language": "python",
   "name": "python3"
  },
  "language_info": {
   "codemirror_mode": {
    "name": "ipython",
    "version": 3
   },
   "file_extension": ".py",
   "mimetype": "text/x-python",
   "name": "python",
   "nbconvert_exporter": "python",
   "pygments_lexer": "ipython3",
   "version": "3.9.13"
  }
 },
 "nbformat": 4,
 "nbformat_minor": 2
}

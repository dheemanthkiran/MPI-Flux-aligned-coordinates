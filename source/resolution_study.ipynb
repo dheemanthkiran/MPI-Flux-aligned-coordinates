{
 "cells": [
  {
   "cell_type": "code",
   "execution_count": null,
   "metadata": {},
   "outputs": [],
   "source": [
    "%load_ext autoreload\n",
    "%autoreload 2\n",
    "from scipy.interpolate import BSpline, splev\n",
    "from multiple_flux_surfaces_class import multiple_flux_surfaces\n",
    "import matplotlib.pyplot as plt\n",
    "from matplotlib import pyplot as plt\n",
    "from grad_shafranov_class import GS_Solution\n",
    "import numpy as np\n",
    "from curve_fitting.curve_fitting_class import curve_fitter"
   ]
  },
  {
   "cell_type": "code",
   "execution_count": null,
   "metadata": {},
   "outputs": [],
   "source": [
    "flux_function = GS_Solution(formfactor=\"Dshape\")\n",
    "# flux_function = GS_Solution(formfactor=\"spherical tokamak NSTX\")\n",
    "# flux_function = GS_Solution(formfactor=\"ITER from Cerfon\")\n",
    "# flux_function = GS_Solution(formfactor=\"circular shaped tokamak\")\n",
    "curve_fitting_object =curve_fitter(solverClassObject=flux_function)\n",
    "flux_surfaces = multiple_flux_surfaces(curve_fitting_class_object=curve_fitting_object)"
   ]
  },
  {
   "cell_type": "code",
   "execution_count": null,
   "metadata": {},
   "outputs": [],
   "source": [
    "#getting coefficents of all necessary curves in log space near the axis\n",
    "\n",
    "m_max_project_beg = 1\n",
    "m_max_project_end = 15\n",
    "number_of_s_points = 15\n",
    "coefficients1 = []\n",
    "coefficients2 = []\n",
    "coefficients4 = []\n",
    "coefficients60 = []\n",
    "s = np.logspace(-4,0,number_of_s_points)\n",
    "for m_final in range(m_max_project_beg, m_max_project_end+1):\n",
    "    coeffs_for_1m_final = []\n",
    "    coeffs_for_2m_final = []\n",
    "    coeffs_for_4m_final = []\n",
    "    coeffs_for_60m_final = []\n",
    "    for i in range(len(s)):\n",
    "        coeffs_for_1m_final.append(curve_fitting_object.get_full_contour(s_fs=s[i], m_max_start_first=1, m_max_end_first=m_final, m_max_end=m_final, root_search=True))\n",
    "        coeffs_for_2m_final.append(curve_fitting_object.get_full_contour(s_fs=s[i], m_max_start_first=1, m_max_end_first=m_final, m_max_end=2*m_final, root_search=True))\n",
    "        coeffs_for_4m_final.append(curve_fitting_object.get_full_contour(s_fs=s[i], m_max_start_first=1, m_max_end_first=m_final, m_max_end=4*m_final, root_search=True))\n",
    "        coeffs_for_60m_final.append(curve_fitting_object.get_full_contour(s_fs=s[i], m_max_start_first=1, m_max_end_first=m_final, m_max_end=60, root_search=True))\n",
    "    \n",
    "    \n",
    "    coefficients1.append(coeffs_for_1m_final)\n",
    "    coefficients2.append(coeffs_for_2m_final)\n",
    "    coefficients4.append(coeffs_for_4m_final)\n",
    "    coefficients60.append(coeffs_for_60m_final)\n",
    "    print(f'm_final:{m_final}')\n"
   ]
  },
  {
   "cell_type": "code",
   "execution_count": null,
   "metadata": {},
   "outputs": [],
   "source": [
    "fig, ax = plt.subplots(2,2, figsize=(10,10))\n",
    "colors = plt.cm.jet(np.linspace(0,1,m_max_project_end+1-m_max_project_beg, endpoint=True))\n",
    "\n",
    "for m_final in range(m_max_project_beg, m_max_project_end+1):\n",
    "    error_curve1 = np.zeros(number_of_s_points)\n",
    "    error_curve2 = np.zeros(number_of_s_points)\n",
    "    error_curve4 = np.zeros(number_of_s_points)\n",
    "    error_curve60 = np.zeros(number_of_s_points)\n",
    "    for i in range(number_of_s_points):\n",
    "        x,xmap =  coefficients1[m_final-m_max_project_beg][i]\n",
    "        R,Z = curve_fitting_object.eval_curve(x=x, xmap=xmap)\n",
    "        error_curve1[i] = np.max(np.abs(curve_fitting_object.flux_function.eval_s(R=R, Z=Z)-s[i]))/s[i]\n",
    "        \n",
    "        x,xmap =  coefficients2[m_final-m_max_project_beg][i]\n",
    "        R,Z = curve_fitting_object.eval_curve(x=x, xmap=xmap)\n",
    "        error_curve2[i] = np.max(np.abs(curve_fitting_object.flux_function.eval_s(R=R, Z=Z)-s[i]))/s[i]\n",
    "        \n",
    "        x,xmap =  coefficients4[m_final-m_max_project_beg][i]\n",
    "        R,Z = curve_fitting_object.eval_curve(x=x, xmap=xmap)\n",
    "        error_curve4[i] = np.max(np.abs(curve_fitting_object.flux_function.eval_s(R=R, Z=Z)-s[i]))/s[i]\n",
    "        \n",
    "        x,xmap =  coefficients60[m_final-m_max_project_beg][i]\n",
    "        R,Z = curve_fitting_object.eval_curve(x=x, xmap=xmap)\n",
    "        error_curve60[i] = np.max(np.abs(curve_fitting_object.flux_function.eval_s(R=R, Z=Z)-s[i]))/s[i]\n",
    "    \n",
    "    \n",
    "    ax[0,0].plot(s,error_curve1, label=f'm_final:{m_final}', color = colors[m_final-m_max_project_beg])\n",
    "    ax[0,1].plot(s,error_curve2, label=f'm_final:{m_final}', color = colors[m_final-m_max_project_beg])\n",
    "    ax[1,0].plot(s,error_curve4, label=f'm_final:{m_final}', color = colors[m_final-m_max_project_beg])\n",
    "    ax[1,1].plot(s,error_curve60, label=f'm_final:{m_final}', color = colors[m_final-m_max_project_beg])\n",
    "\n",
    "f = lambda x: (x.set_xscale('log'), x.set_yscale('log'))\n",
    "np.vectorize(f)(ax)\n",
    "ax[0,0].legend(mode='expand',ncol = 5, bbox_to_anchor = (0.1,0.3,2,1))\n"
   ]
  },
  {
   "cell_type": "code",
   "execution_count": null,
   "metadata": {},
   "outputs": [],
   "source": [
    "#plotting error of previously calculates curves\n",
    "\n",
    "fig, ax = plt.subplots(figsize = (10, 10))\n",
    "\n",
    "colors = plt.cm.jet(np.linspace(0,1,m_max_project_end+1-m_max_project_beg, endpoint=True))\n",
    "for m_final in range(m_max_project_beg, m_max_project_end+1):\n",
    "    error_curve = np.zeros(number_of_s_points)\n",
    "    print(f'm = {m_final}')\n",
    "    for i in range(len(s)):\n",
    "        x,xmap =  coefficients1[m_final-m_max_project_beg][i]\n",
    "        R,Z = curve_fitting_object.eval_curve(x=x, xmap=xmap)\n",
    "        error_curve[i] = np.max(np.abs(curve_fitting_object.flux_function.eval_s(R=R, Z=Z)-s[i]))/s[i]\n",
    "    \n",
    "    ax.plot(s,error_curve, label=f'm_final:{m_final}', color = colors[m_final-m_max_project_beg])\n",
    "\n",
    "ax.set_yscale('log')\n",
    "ax.set_xscale('log')\n",
    "ax.set_xlabel('s', fontsize=15)\n",
    "ax.set_ylabel('relative error in s',fontsize=15)\n",
    "ax.legend(bbox_to_anchor = (1,1))"
   ]
  },
  {
   "cell_type": "code",
   "execution_count": null,
   "metadata": {},
   "outputs": [],
   "source": [
    "coeffs_for_s_equal_1 = []\n",
    "for m_final in range(m_max_project_beg, m_max_project_end+1):\n",
    "    coeffs_for_s_equal_1.append(curve_fitting_object.get_full_contour(s_fs=1, m_max_start_first=1, m_max_end_first=m_final, m_max_end=60, root_search=True))\n",
    "\n",
    "\n"
   ]
  },
  {
   "cell_type": "code",
   "execution_count": null,
   "metadata": {},
   "outputs": [],
   "source": [
    "Rhat_0 = np.zeros(len(coeffs_for_s_equal_1))\n",
    "Zhat_0 = np.zeros(len(coeffs_for_s_equal_1))\n",
    "# print(coeffs_for_s_equal_1[0][1])\n",
    "\n",
    "fig, ax = plt.subplots(figsize = (8, 8))\n",
    "fig2, ax2 = plt.subplots(figsize = (8, 8))\n",
    "\n",
    "end =20\n",
    "colors = plt.cm.jet(np.linspace(0,1,end, endpoint=True))\n",
    "\n",
    "for j in range(end):\n",
    "    for i in range(len(coeffs_for_s_equal_1)):\n",
    "        Coeff, coeffs_map = coeffs_for_s_equal_1[i]\n",
    "        Coeff = np.asarray(Coeff)\n",
    "        Rhat_0[i] = Coeff[coeffs_map['str_r_c']+j]\n",
    "        Zhat_0[i] = Coeff[coeffs_map['str_z_c']+j]\n",
    "        # Rhat_0 = Rhat_0 / Rhat_0[-1]\n",
    "        # Zhat_0 = Zhat_0 / Zhat_0[-1]\n",
    "        Rhat_0 = Rhat_0 \n",
    "        Zhat_0 = Zhat_0 \n",
    "        \n",
    "        \n",
    "    \n",
    "      \n",
    "    ax.plot(np.linspace(1,15,15, endpoint=True),abs(Rhat_0), color=colors[j], label = f'Rhat_{j}')\n",
    "    ax2.plot(np.linspace(1,15,15, endpoint=True),abs(Zhat_0), color=colors[j], label = f'Zhat_{j}')\n",
    "\n",
    "\n",
    "ax.set_yscale('log')\n",
    "ax2.set_yscale('log')\n",
    "ax.legend()\n",
    "ax2.legend()\n",
    "ax.set_xlabel(r'$m_{max}$', fontsize = 15)\n",
    "ax2.set_xlabel(r'$m_{max}$', fontsize = 15)\n",
    "ax.set_ylabel('Relative coefficient value', fontsize = 15)\n",
    "ax2.set_ylabel('Relative coefficient value', fontsize = 15)\n",
    "ax.legend(bbox_to_anchor = (1,1))\n",
    "ax2.legend(bbox_to_anchor = (1,1))\n",
    "\n",
    "# print(Rhat_0)\n",
    "# print(Zhat_0)\n",
    "# print(Coeff)"
   ]
  },
  {
   "cell_type": "code",
   "execution_count": null,
   "metadata": {},
   "outputs": [],
   "source": [
    "print(Rhat_0)\n",
    "plt.plot(abs(Rhat_0))\n",
    "plt.yscale('log')\n",
    "plt.xlabel(r'$m_{max}$')\n",
    "plt.ylabel(r\"$\\hat{R}$\")"
   ]
  },
  {
   "cell_type": "code",
   "execution_count": null,
   "metadata": {},
   "outputs": [],
   "source": [
    "plt.yscale('log')\n",
    "plt.xlabel(r'$m_{max}$')\n",
    "plt.ylabel(r\"$\\hat{Z}$\")\n",
    "plt.plot(abs(Zhat_0))"
   ]
  },
  {
   "cell_type": "code",
   "execution_count": null,
   "metadata": {},
   "outputs": [],
   "source": [
    "m_max_project_beg = 1\n",
    "m_max_project_end = 15\n",
    "number_of_s_points = 15\n",
    "\n",
    "s = np.logspace(-4,-1,number_of_s_points, endpoint=True)\n",
    "# s = np.linspace(0,1,number_of_s_points,endpoint=True)\n",
    "# s[0]=1.0e-4\n",
    "\n",
    "q_data_points = np.zeros((m_max_project_end+1-m_max_project_beg,number_of_s_points))\n",
    "\n",
    "colors = plt.cm.jet(np.linspace(0,1,m_max_project_end+1-m_max_project_beg, endpoint=True))\n",
    "for m_final in range(m_max_project_beg, m_max_project_end+1):\n",
    "    print(f'm = {m_final}')\n",
    "    for i in range(len(s)):\n",
    "        q_data_points[m_final - m_max_project_beg][i] = flux_surfaces.safety_factor_with_dedicated_contour(s=s[i],m_max_end=60, m_max_start_first=1, m_max_end_first=m_final)\n",
    "    \n"
   ]
  },
  {
   "cell_type": "code",
   "execution_count": null,
   "metadata": {},
   "outputs": [],
   "source": [
    "\n",
    "colors = plt.cm.jet(np.linspace(0,1,number_of_s_points, endpoint=True))\n",
    "fig, ax = plt.subplots(figsize = (8,8))\n",
    "plot_y = np.transpose(abs(q_data_points/q_data_points[-1]-1)+1.0e-16)\n",
    "\n",
    "for i in range(number_of_s_points):\n",
    "    ax.plot(np.arange(start=m_max_project_beg, stop=m_max_project_end+1),plot_y[i],label =f\"s:{round(s[i], 4)}\", color=colors[i])\n",
    "ax.set_xlabel(r'$m_{max}$', fontsize=15)\n",
    "ax.set_ylabel(r'$|\\frac{q(s)_{i}}{q(s)_{m_{max}}}-1| + 10^{-16}$',fontsize=15)\n",
    "ax.legend()\n",
    "ax.legend(bbox_to_anchor = (1,1))\n",
    "ax.set_yscale('log')\n"
   ]
  },
  {
   "cell_type": "code",
   "execution_count": null,
   "metadata": {},
   "outputs": [],
   "source": [
    "np.arange(5)*np.ones((2,5))"
   ]
  },
  {
   "cell_type": "code",
   "execution_count": null,
   "metadata": {},
   "outputs": [],
   "source": [
    "x ,y = q_data_points.shape\n",
    "mode_difference = np.zeros((x-1,y))\n",
    "for i in range(len(q_data_points)-1):\n",
    "    mode_difference[i] = q_data_points[i+1]-q_data_points[i]\n",
    "\n",
    "print(mode_difference)"
   ]
  },
  {
   "cell_type": "code",
   "execution_count": null,
   "metadata": {},
   "outputs": [],
   "source": [
    "fig, ax = plt.subplots(figsize = (8,8))\n",
    "ax.plot(np.arange(start=m_max_project_beg, stop=m_max_project_end),np.abs(mode_difference),label = [f\"s:{round(s[i], 4)}\" for i in range(len(mode_difference.transpose()))])\n",
    "# ax.set_xscale('log')\n",
    "ax.set_xlabel('mode')\n",
    "ax.set_ylabel('q(Safety Factor) difference')\n",
    "ax.legend(bbox_to_anchor = (1.2,1))\n",
    "color = plt.cm.jet(np.linspace(0,1,len(mode_difference.transpose())))\n",
    "print(color)\n",
    "print(s)"
   ]
  },
  {
   "cell_type": "code",
   "execution_count": null,
   "metadata": {},
   "outputs": [],
   "source": [
    "m_max_project_beg = 1\n",
    "m_max_project_end = 10\n",
    "number_of_s_points = 15\n",
    "\n",
    "s = np.logspace(-4,-1,number_of_s_points, endpoint=True)\n",
    "fig, ax = plt.subplots(figsize = (8,8))\n",
    "\n",
    "colors = plt.cm.jet(np.linspace(0,1,m_max_project_end+1-m_max_project_beg, endpoint=True))\n",
    "\n",
    "previous = np.zeros(number_of_s_points)\n",
    "\n",
    "for m_final in range(m_max_project_beg, m_max_project_end+1):\n",
    "    q_curve = np.zeros(number_of_s_points)\n",
    "    print(f'm = {m_final}')\n",
    "    for i in range(len(s)):\n",
    "        q_curve[i] = flux_surfaces.safety_factor_with_dedicated_contour(s=s[i],m_max_end=60, m_max_start_first=1, m_max_end_first=m_final)\n",
    "    if m_final == m_max_project_beg:\n",
    "        previous = q_curve\n",
    "        continue\n",
    "    \n",
    "    ax.plot(s,q_curve-previous, label=f'm_final:{m_final} - {m_final-1}',  color = colors[m_final-m_max_project_beg])\n",
    "\n",
    "ax.set_xscale('log')\n",
    "ax.set_xlabel('s')\n",
    "ax.set_ylabel('q(Safety Factor)')\n",
    "ax.legend(bbox_to_anchor = (1.2,1))"
   ]
  }
 ],
 "metadata": {
  "kernelspec": {
   "display_name": "wipro_env",
   "language": "python",
   "name": "python3"
  },
  "language_info": {
   "codemirror_mode": {
    "name": "ipython",
    "version": 3
   },
   "file_extension": ".py",
   "mimetype": "text/x-python",
   "name": "python",
   "nbconvert_exporter": "python",
   "pygments_lexer": "ipython3",
   "version": "3.9.13"
  }
 },
 "nbformat": 4,
 "nbformat_minor": 2
}

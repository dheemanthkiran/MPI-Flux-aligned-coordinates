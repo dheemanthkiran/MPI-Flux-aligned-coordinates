{
 "cells": [
  {
   "cell_type": "code",
   "execution_count": null,
   "metadata": {},
   "outputs": [],
   "source": [
    "%load_ext autoreload\n",
    "%autoreload\n",
    "from scipy.interpolate import BSpline\n",
    "from multiple_flux_surfaces_class import multiple_flux_surfaces\n",
    "import matplotlib.pyplot as plt\n",
    "from matplotlib import pyplot as plt\n",
    "from grad_shafranov_class import GS_Solution\n",
    "import numpy as np\n",
    "from curve_fitting.curve_fitting_class import curve_fitter"
   ]
  },
  {
   "cell_type": "code",
   "execution_count": null,
   "metadata": {},
   "outputs": [],
   "source": [
    "%load_ext autoreload\n",
    "%autoreload\n",
    "\n",
    "flux_function = GS_Solution(formfactor=\"Dshape\")\n",
    "\n",
    "# Warning: evaluations of psi >0 are in principle outside of the plasma domain...\n",
    "\n",
    "curve_fitting_object =curve_fitter(solverClassObject=flux_function)\n",
    "\n",
    "#TODO: does not work for psi_fs<=0!!!\n",
    "\n",
    "\n",
    "\n",
    "#psi_fs,lcfs_x,xmap=curve_fitting_object.find_flux_surface(r_fs=3.4,z_fs=0.)\n",
    "psi_fs,lcfs_x,xmap=curve_fitting_object.find_flux_surface(psi_fs=0.1)\n",
    "print('psi_fs=',psi_fs)"
   ]
  },
  {
   "cell_type": "code",
   "execution_count": null,
   "metadata": {},
   "outputs": [],
   "source": [
    "\n",
    "\n",
    "#TODO: check computation of bounds for R,Z in get_RZ_grid!\n",
    "\n",
    "R, Z = flux_function.get_RZ_grid(gridPoints=150)\n",
    "psi = flux_function.eval_psi(R, Z)\n",
    "\n",
    "fig, ax = plt.subplots(figsize=(10, 10))\n",
    "im = ax.contourf(R, Z, psi, 40, cmap='jet', alpha=0.4)\n",
    "cp=ax.contour(R, Z, psi, 40, cmap='jet')\n",
    "clb=fig.colorbar(cp)\n",
    "\n",
    "R_curve,Z_curve = curve_fitting_object.eval_curve(x=lcfs_x, xmap=xmap, N=200)\n",
    "ax.plot(R_curve, Z_curve, color='black')"
   ]
  }
 ],
 "metadata": {
  "kernelspec": {
   "display_name": "Python 3",
   "language": "python",
   "name": "python3"
  },
  "language_info": {
   "codemirror_mode": {
    "name": "ipython",
    "version": 3
   },
   "file_extension": ".py",
   "mimetype": "text/x-python",
   "name": "python",
   "nbconvert_exporter": "python",
   "pygments_lexer": "ipython3",
   "version": "3.10.12"
  }
 },
 "nbformat": 4,
 "nbformat_minor": 2
}
